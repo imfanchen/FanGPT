{
 "cells": [
  {
   "cell_type": "markdown",
   "id": "cc6b7b9f-a75d-4b78-930f-26d2343ac2c2",
   "metadata": {},
   "source": [
    "# Lesson 3: Enable Logging"
   ]
  },
  {
   "cell_type": "markdown",
   "id": "06fc5839-0b4b-42a3-9aaf-99a97e347955",
   "metadata": {},
   "source": [
    "### Import all needed packages"
   ]
  },
  {
   "cell_type": "code",
   "execution_count": 1,
   "id": "63cf31e4",
   "metadata": {
    "height": 98
   },
   "outputs": [],
   "source": [
    "import boto3\n",
    "import json\n",
    "import os\n",
    "\n",
    "bedrock = boto3.client('bedrock', region_name=\"us-west-2\")"
   ]
  },
  {
   "cell_type": "code",
   "execution_count": null,
   "id": "e5d9e31b",
   "metadata": {
    "height": 47
   },
   "outputs": [],
   "source": [
    "from helpers.cloud_watch_helper import CloudWatchHelper\n",
    "cloudwatch = CloudWatchHelper()"
   ]
  },
  {
   "cell_type": "code",
   "execution_count": 3,
   "id": "87a30e7e",
   "metadata": {
    "height": 30
   },
   "outputs": [],
   "source": [
    "log_group_name = '/my/amazon/bedrock/logs'"
   ]
  },
  {
   "cell_type": "code",
   "execution_count": 4,
   "id": "2461a51c",
   "metadata": {
    "height": 30
   },
   "outputs": [
    {
     "name": "stdout",
     "output_type": "stream",
     "text": [
      "Log group '/my/amazon/bedrock/logs' created successfully.\n"
     ]
    }
   ],
   "source": [
    "cloudwatch.create_log_group(log_group_name)"
   ]
  },
  {
   "cell_type": "code",
   "execution_count": 5,
   "id": "0afe5997",
   "metadata": {
    "height": 268
   },
   "outputs": [],
   "source": [
    "loggingConfig = {\n",
    "    'cloudWatchConfig': {\n",
    "        'logGroupName': log_group_name,\n",
    "        'roleArn': os.environ['LOGGINGROLEARN'],\n",
    "        'largeDataDeliveryS3Config': {\n",
    "            'bucketName': os.environ['LOGGINGBUCKETNAME'],\n",
    "            'keyPrefix': 'amazon_bedrock_large_data_delivery',\n",
    "        }\n",
    "    },\n",
    "    's3Config': {\n",
    "        'bucketName': os.environ['LOGGINGBUCKETNAME'],\n",
    "        'keyPrefix': 'amazon_bedrock_logs',\n",
    "    },\n",
    "    'textDataDeliveryEnabled': True,\n",
    "}"
   ]
  },
  {
   "cell_type": "code",
   "execution_count": 6,
   "id": "2ca33ffe",
   "metadata": {
    "height": 30
   },
   "outputs": [
    {
     "data": {
      "text/plain": [
       "{'ResponseMetadata': {'RequestId': '57c2735c-0cff-431a-a266-8ca865408ecd',\n",
       "  'HTTPStatusCode': 200,\n",
       "  'HTTPHeaders': {'date': 'Mon, 04 Aug 2025 14:28:11 GMT',\n",
       "   'content-type': 'application/json',\n",
       "   'content-length': '2',\n",
       "   'connection': 'keep-alive',\n",
       "   'x-amzn-requestid': '57c2735c-0cff-431a-a266-8ca865408ecd'},\n",
       "  'RetryAttempts': 0}}"
      ]
     },
     "execution_count": 6,
     "metadata": {},
     "output_type": "execute_result"
    }
   ],
   "source": [
    "bedrock.put_model_invocation_logging_configuration(loggingConfig=loggingConfig)"
   ]
  },
  {
   "cell_type": "code",
   "execution_count": 7,
   "id": "41fdb20d",
   "metadata": {
    "height": 30
   },
   "outputs": [
    {
     "data": {
      "text/plain": [
       "{'ResponseMetadata': {'RequestId': 'a3fcb006-6596-4e05-9a90-6e4778471f18',\n",
       "  'HTTPStatusCode': 200,\n",
       "  'HTTPHeaders': {'date': 'Mon, 04 Aug 2025 14:28:28 GMT',\n",
       "   'content-type': 'application/json',\n",
       "   'content-length': '604',\n",
       "   'connection': 'keep-alive',\n",
       "   'x-amzn-requestid': 'a3fcb006-6596-4e05-9a90-6e4778471f18'},\n",
       "  'RetryAttempts': 0},\n",
       " 'loggingConfig': {'cloudWatchConfig': {'logGroupName': '/my/amazon/bedrock/logs',\n",
       "   'roleArn': 'arn:aws:iam::633017013678:role/c99355a2566044l11109350t1w6330170136-LoggingIAMRole-B0iLQPnSs1Mo',\n",
       "   'largeDataDeliveryS3Config': {'bucketName': 'c99355a2566044l11109350t1w63301701-loggings3bucket-eycpedes86rb',\n",
       "    'keyPrefix': 'amazon_bedrock_large_data_delivery'}},\n",
       "  's3Config': {'bucketName': 'c99355a2566044l11109350t1w63301701-loggings3bucket-eycpedes86rb',\n",
       "   'keyPrefix': 'amazon_bedrock_logs'},\n",
       "  'textDataDeliveryEnabled': True,\n",
       "  'imageDataDeliveryEnabled': True,\n",
       "  'embeddingDataDeliveryEnabled': True}}"
      ]
     },
     "execution_count": 7,
     "metadata": {},
     "output_type": "execute_result"
    }
   ],
   "source": [
    "bedrock.get_model_invocation_logging_configuration()"
   ]
  },
  {
   "cell_type": "code",
   "execution_count": 8,
   "id": "95ebecb7",
   "metadata": {
    "height": 30
   },
   "outputs": [],
   "source": [
    "bedrock_runtime = boto3.client('bedrock-runtime', region_name=\"us-west-2\")"
   ]
  },
  {
   "cell_type": "code",
   "execution_count": 9,
   "id": "402c6311",
   "metadata": {
    "height": 421
   },
   "outputs": [
    {
     "name": "stdout",
     "output_type": "stream",
     "text": [
      "\n",
      "Foobar is a fictional planet featured in various works of science fiction and fantasy literature. It is often described as a planet of wonder and adventure, with a unique and exotic ecosystem that is home to a wide variety of creatures and plants. Foobar is often depicted as a planet that is inhabited by a diverse range of sentient beings, including humans, aliens, and fantastical creatures such as dragons, elves, and dwarves.\n",
      "\n",
      "One of the most notable features of Foobar is its atmosphere. The planet is known for its thick, dense atmosphere, which is made up of a mixture of gases and minerals. This atmosphere is thick enough to support life, and it is also home to a wide variety of weather phenomena, including storms, hurricanes, and lightning. The weather on Foobar can be unpredictable, and it can be dangerous for those who are not prepared.\n",
      "\n",
      "Foobar is also known for its diverse ecosystem. The planet is home to a wide variety of plant and animal species, including some that are unique to Foobar. These species include the Foobarian Elephant, a massive creature that can weigh up to several tons and is known for its intelligence and gentle nature. The Foobarian Tiger is another notable species, known for its speed and agility.\n",
      "\n",
      "In addition to its diverse ecosystem, Foobar is also known for its ancient ruins and lost civilizations. The planet has been inhabited for thousands of years, and many of its ancient buildings and artifacts are still intact. These ruins can be found throughout the planet, and they provide a glimpse into the history of Foobar.\n",
      "\n",
      "Despite its many wonders and adventures, Foobar is also a planet that is plagued by conflict and turmoil. The planet has been the site of numerous wars and battles, and many of its inhabitants have been forced to flee their homes. The planet is also home to a number of dangerous creatures and plants, including the Foobarian Dragon, a massive and powerful creature that is known for its destructive behavior.\n",
      "\n",
      "Despite these challenges, Foobar remains a popular destination for adventurers and explorers. Many people travel to the planet in search of adventure, and many of them find themselves drawn to its unique and exotic ecosystem. Foobar has also been the subject of many works of science fiction and fantasy literature, including novels, movies, and television shows.\n",
      "\n",
      "One of the most notable works of science fiction and fantasy literature that features Foobar is the book series \"The Chronicles of Foobar\" by J.R.R. Tolkien. The series\n"
     ]
    }
   ],
   "source": [
    "prompt = \"Write an article about the fictional planet Foobar.\"\n",
    "\n",
    "kwargs = {\n",
    "    \"modelId\": \"amazon.titan-text-express-v1\",\n",
    "    \"contentType\": \"application/json\",\n",
    "    \"accept\": \"*/*\",\n",
    "    \"body\": json.dumps(\n",
    "        {\n",
    "            \"inputText\": prompt,\n",
    "            \"textGenerationConfig\": {\n",
    "                \"maxTokenCount\": 512,\n",
    "                \"temperature\": 0.7,\n",
    "                \"topP\": 0.9\n",
    "            }\n",
    "        }\n",
    "    )\n",
    "}\n",
    "\n",
    "response = bedrock_runtime.invoke_model(**kwargs)\n",
    "response_body = json.loads(response.get('body').read())\n",
    "\n",
    "generation = response_body['results'][0]['outputText']\n",
    "\n",
    "print(generation)"
   ]
  },
  {
   "cell_type": "code",
   "execution_count": 10,
   "id": "68a7bab7",
   "metadata": {
    "height": 30
   },
   "outputs": [
    {
     "name": "stdout",
     "output_type": "stream",
     "text": [
      "{\n",
      "    \"timestamp\": \"2025-08-04T14:34:27Z\",\n",
      "    \"accountId\": \"633017013678\",\n",
      "    \"identity\": {\n",
      "        \"arn\": \"arn:aws:sts::633017013678:assumed-role/voclabs/user4263318=eyJhbGciOiJIUzI1NiIsInR5cCI6IkpXVCJ9.eyJpc3MiOiJhcHA\"\n",
      "    },\n",
      "    \"region\": \"us-west-2\",\n",
      "    \"requestId\": \"b1e87622-fb99-4b9e-91a1-370322bfed2f\",\n",
      "    \"operation\": \"InvokeModel\",\n",
      "    \"modelId\": \"amazon.titan-text-express-v1\",\n",
      "    \"input\": {\n",
      "        \"inputContentType\": \"application/json\",\n",
      "        \"inputBodyJson\": {\n",
      "            \"inputText\": \"Write an article about the fictional planet Foobar.\",\n",
      "            \"textGenerationConfig\": {\n",
      "                \"maxTokenCount\": 512,\n",
      "                \"temperature\": 0.7,\n",
      "                \"topP\": 0.9\n",
      "            }\n",
      "        },\n",
      "        \"inputTokenCount\": 10\n",
      "    },\n",
      "    \"output\": {\n",
      "        \"outputContentType\": \"application/json\",\n",
      "        \"outputBodyJson\": {\n",
      "            \"inputTextTokenCount\": 10,\n",
      "            \"results\": [\n",
      "                {\n",
      "                    \"tokenCount\": 512,\n",
      "                    \"outputText\": \"\\nFoobar is a fictional planet featured in various works of science fiction and fantasy literature. It is often described as a planet of wonder and adventure, with a unique and exotic ecosystem that is home to a wide variety of creatures and plants. Foobar is often depicted as a planet that is inhabited by a diverse range of sentient beings, including humans, aliens, and fantastical creatures such as dragons, elves, and dwarves.\\n\\nOne of the most notable features of Foobar is its atmosphere. The planet is known for its thick, dense atmosphere, which is made up of a mixture of gases and minerals. This atmosphere is thick enough to support life, and it is also home to a wide variety of weather phenomena, including storms, hurricanes, and lightning. The weather on Foobar can be unpredictable, and it can be dangerous for those who are not prepared.\\n\\nFoobar is also known for its diverse ecosystem. The planet is home to a wide variety of plant and animal species, including some that are unique to Foobar. These species include the Foobarian Elephant, a massive creature that can weigh up to several tons and is known for its intelligence and gentle nature. The Foobarian Tiger is another notable species, known for its speed and agility.\\n\\nIn addition to its diverse ecosystem, Foobar is also known for its ancient ruins and lost civilizations. The planet has been inhabited for thousands of years, and many of its ancient buildings and artifacts are still intact. These ruins can be found throughout the planet, and they provide a glimpse into the history of Foobar.\\n\\nDespite its many wonders and adventures, Foobar is also a planet that is plagued by conflict and turmoil. The planet has been the site of numerous wars and battles, and many of its inhabitants have been forced to flee their homes. The planet is also home to a number of dangerous creatures and plants, including the Foobarian Dragon, a massive and powerful creature that is known for its destructive behavior.\\n\\nDespite these challenges, Foobar remains a popular destination for adventurers and explorers. Many people travel to the planet in search of adventure, and many of them find themselves drawn to its unique and exotic ecosystem. Foobar has also been the subject of many works of science fiction and fantasy literature, including novels, movies, and television shows.\\n\\nOne of the most notable works of science fiction and fantasy literature that features Foobar is the book series \\\"The Chronicles of Foobar\\\" by J.R.R. Tolkien. The series\",\n",
      "                    \"completionReason\": \"LENGTH\"\n",
      "                }\n",
      "            ]\n",
      "        },\n",
      "        \"outputTokenCount\": 512\n",
      "    },\n",
      "    \"schemaType\": \"ModelInvocationLog\",\n",
      "    \"schemaVersion\": \"1.0\"\n",
      "}\n",
      "-------------------------\n",
      "\n"
     ]
    }
   ],
   "source": [
    "cloudwatch.print_recent_logs(log_group_name)"
   ]
  },
  {
   "cell_type": "markdown",
   "id": "1118acfb",
   "metadata": {},
   "source": [
    "To review the logs within the AWS console, please use the following link to reference the steps outlined in the video:"
   ]
  },
  {
   "cell_type": "code",
   "execution_count": 11,
   "id": "2cf443d2",
   "metadata": {
    "height": 47
   },
   "outputs": [],
   "source": [
    "from IPython.display import HTML\n",
    "aws_url = os.environ['AWS_CONSOLE_URL']"
   ]
  },
  {
   "cell_type": "code",
   "execution_count": 12,
   "id": "0b7c904c",
   "metadata": {
    "height": 47
   },
   "outputs": [
    {
     "data": {
      "text/html": [
       "<a href=\"https://signin.aws.amazon.com/federation?Action=login&SigninToken=L9FRY3YgMdjYmkvgABbJsEycWximqX9IGVrVhU3CIJIXf9XyE7SvmeAKS6hVEwQthcmqzcQI-JaTTbCThAvLxw1heB7nXnk2XFoILv4wPMk5EtyERKx8subqdPW8tIu1YsdrlIr5iReSYk0AhdMAKk7-sWvp-dVlkRoo1JCYeqbcNhBq3ghUA0tFVEfSEiCjMdN0MexJMmTjYtS5NqHVQZafNYRRnzvcdikih5Tj5Cf149OWwDbe69j7_wfjNi27_9rz0prYPkY5mtOu0R7Pv4ECDo5ZuMC2Yq59Zv51x5BUhkrAqJcKVAXXWqXu0JvF7YkyW366qAZZC0SM6hiAuGYAAJEPCddQE_eLLljy8QTwd7FcSnuJqWmPHplavSWh78KVk0S2PLgVPWNI8oyyP7PJLUhN-qXwh8U7LNpEvFF79suP8VEkC4bpdDeUw_MtYSltNPcptfVs5HryFJdgtERyjpD7ru_sY-0WaHo2r3y1x4xnICF_Hyu0u3bDwf5EAy_66KYASJ9c7wlqYI2vKHze0-CWBk6jMaK2bJtb0ahghBJWOBcL3mdUI0alQg-anCrVkU0Oq2hSHf3GncNJvyS3-JDF30WMwfODAUfR0ENhzQGTaATQBdaFQJluZ4ZxkJglJCSk59owcFHycc15AvsADalS80xG_dlVcPr9hV2MMgquLyCqJ5BaP5rqTujTeVi8hsXDG8wpStGa2vZ74qwQ8qis9I4u757zrWHXuXpsvaQeO0JZvls3d5r4av65ow48ONJkCpM0mpGAr00GrRpvkY_hCDgj9h5k1lz1Y9BIQV5ES4XbGux1E0KtuBciwbyDtLJ9YORzvFvDrkQLiKkC5baY19nMSoCKZUv37ujGG3TgdJI5fRTDnAsEepqyGEXOzQQca_2w-efNJfyQ_zr3nvL-rzKd5_qVclboT-xPRjlkPrH2wXdIlozZT4pBaNjk3e-IgS7wC4wfuIpe0EqfL50bUOFZlSIG0lZZdOmYWNc8DktthypxCpuSemZXDN2Cwxqd4rq0lF_qukBQxGEMcsAReocA-NrtjkKMB2u9T-v8wCxo07Zs79qeE3rx9-_Z1KcSEKmFfLE_IfDmzUICK8-wSU7ymNVDnmd2ZAqX5CjaKF0skvmK5tSGybneZh6P3J93pK3OQmvocmzupsLdYASsLCkZ0qb-JsvnpRkEv5j3dLLj7Rw7FvLKj7lTptSht3fTD4xqstU5I8nfXbKdTeU0Dcw98nx9bSCwcPAssuE0hpCkA9ypg-tGTIyMZ3Um7xBd1KNnGY17xu7N0N5z5Gcjkd3tv-wOY-HWETFFFIA85COhBhfxD7Doq-bSNEkV0nYVinBMHBvJzUt6hOXEhVtaIQD41Zk6rB4Jr_WxSMxFN987jv-qFd9hvt9K8I8L4n0SLnT8XpAZB8VEFpv67nNpamvye5zGqoE5mvC5Et87OFgFCMY67Y8E1GvKV1AoCZWpOXYWmzAEd_qcF6ilSvEPjvfLL2744C5zioOMTaC_z-_cxu-KPdqC&Issuer=https%3A%2F%2Fapi.vocareum.com&Destination=https%3A%2F%2Fconsole.aws.amazon.com%2Fconsole%2Fhome%3Fregion%3Dus-west-2\" target=\"_blank\">GO TO AWS CONSOLE</a>"
      ],
      "text/plain": [
       "<IPython.core.display.HTML object>"
      ]
     },
     "execution_count": 12,
     "metadata": {},
     "output_type": "execute_result"
    }
   ],
   "source": [
    "HTML(f'<a href=\"{aws_url}\" target=\"_blank\">GO TO AWS CONSOLE</a>')\n"
   ]
  }
 ],
 "metadata": {
  "kernelspec": {
   "display_name": "Python 3 (ipykernel)",
   "language": "python",
   "name": "python3"
  },
  "language_info": {
   "codemirror_mode": {
    "name": "ipython",
    "version": 3
   },
   "file_extension": ".py",
   "mimetype": "text/x-python",
   "name": "python",
   "nbconvert_exporter": "python",
   "pygments_lexer": "ipython3",
   "version": "3.11.9"
  }
 },
 "nbformat": 4,
 "nbformat_minor": 5
}
